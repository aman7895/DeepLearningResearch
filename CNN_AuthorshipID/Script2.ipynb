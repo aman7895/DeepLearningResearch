{
 "cells": [
  {
   "cell_type": "code",
   "execution_count": 1,
   "metadata": {},
   "outputs": [
    {
     "name": "stderr",
     "output_type": "stream",
     "text": [
      "Using Theano backend.\n"
     ]
    }
   ],
   "source": [
    "from __future__ import print_function\n",
    "from __future__ import division\n",
    "import json\n",
    "import py_crepe\n",
    "import datetime\n",
    "import numpy as np\n",
    "import data_helpers\n",
    "import fixeddocdata\n",
    "import string\n",
    "import pandas as pd\n",
    "from resultMain import myfunc\n",
    "np.random.seed(0123)  # for reproducibility"
   ]
  },
  {
   "cell_type": "code",
   "execution_count": 2,
   "metadata": {
    "scrolled": false
   },
   "outputs": [
    {
     "name": "stdout",
     "output_type": "stream",
     "text": [
      "(24, 3)\n",
      "author_id     int64\n",
      "doc_id        int64\n",
      "lang         object\n",
      "dtype: object\n",
      "Loading data...\n",
      "SELECT author_id, doc_content FROM aman_content WHERE author_id IN (53, 176, 55, 1680, 1472, 1097, 104, 80, 114, 132, 1416, 1103) AND NOT doc_id = 74 AND doc_id IN (74, 279, 12641, 12596, 23260, 3395, 2746, 3277, 117, 3270, 2034, 20055, 218, 6979, 3405, 3489, 2537, 281, 21567, 12599, 745, 2549, 2548, 3755) AND NOT lang like 'Spanish' ;\n",
      "Execution completed\n",
      "Read completed\n",
      "Number of rows: 19\n",
      "author_id       int64\n",
      "doc_content    object\n",
      "dtype: object\n",
      "Data Frame created: Shape: (10451, 2)\n",
      "Author:    80  Size:   820\n",
      "Author:   132  Size:  1329\n",
      "Author:   176  Size:   777\n",
      "Author:   114  Size:  1131\n",
      "Author:  1097  Size:   482\n",
      "Author:  1103  Size:  1610\n",
      "Author:   104  Size:   608\n",
      "Author:  1472  Size:   408\n",
      "Author:  1416  Size:  1493\n",
      "Author:    55  Size:  1122\n",
      "Author:    53  Size:   540\n",
      "Author:  1680  Size:   131\n",
      "Min: 131\n",
      "Max: 1610\n",
      "Authors [80, 132, 176, 114, 1097, 1103, 104, 1472, 1416, 55, 53, 1680].\n",
      "Found 1572 texts.\n",
      "Found 1572 labels.\n",
      "Creating vocab...\n",
      "Build model...\n",
      "Fit model...\n",
      "Epoch: 0\n",
      "Epoch 0. Loss: 2.48727800846. Accuracy: 0.0693287037313\n",
      "Epoch time: 0:00:20.472976. Total time: 0:00:20.513459\n",
      "\n",
      "Epoch: 1\n",
      "Epoch 1. Loss: 2.47267208099. Accuracy: 0.0798611111939\n",
      "Epoch time: 0:00:19.929866. Total time: 0:00:40.481575\n",
      "\n",
      "Epoch: 2\n",
      "Epoch 2. Loss: 2.36299567223. Accuracy: 0.252662035823\n",
      "Epoch time: 0:00:19.649041. Total time: 0:01:00.167699\n",
      "\n",
      "Epoch: 3\n",
      "Epoch 3. Loss: 1.95121964216. Accuracy: 0.333912035823\n",
      "Epoch time: 0:00:18.857945. Total time: 0:01:19.065845\n",
      "\n",
      "Epoch: 4\n",
      "Epoch 4. Loss: 1.90772391558. Accuracy: 0.323958334327\n",
      "Epoch time: 0:00:18.862341. Total time: 0:01:37.967314\n",
      "\n",
      "Epoch: 5\n",
      "Epoch 5. Loss: 1.97596775293. Accuracy: 0.339583334327\n",
      "Epoch time: 0:00:19.263695. Total time: 0:01:57.271008\n",
      "\n",
      "Epoch: 6\n",
      "Epoch 6. Loss: 1.51751023531. Accuracy: 0.433912035823\n",
      "Epoch time: 0:00:18.855558. Total time: 0:02:16.168461\n",
      "\n",
      "Epoch: 7\n",
      "Epoch 7. Loss: 1.72967752218. Accuracy: 0.395023149252\n",
      "Epoch time: 0:00:19.092423. Total time: 0:02:35.299389\n",
      "\n",
      "Epoch: 8\n",
      "Epoch 8. Loss: 1.8750677228. Accuracy: 0.386226850748\n",
      "Epoch time: 0:00:19.019060. Total time: 0:02:54.355116\n",
      "\n",
      "Epoch: 9\n",
      "Epoch 9. Loss: 2.00273299217. Accuracy: 0.371643517911\n",
      "Epoch time: 0:00:19.025081. Total time: 0:03:13.418375\n",
      "\n",
      "Epoch: 10\n",
      "Epoch 10. Loss: 2.05670788288. Accuracy: 0.371990740299\n",
      "Epoch time: 0:00:18.796583. Total time: 0:03:32.251737\n",
      "\n",
      "Epoch: 11\n",
      "Epoch 11. Loss: 2.17723907232. Accuracy: 0.359490740299\n",
      "Epoch time: 0:00:18.765007. Total time: 0:03:51.057683\n",
      "\n",
      "Epoch: 12\n",
      "Epoch 12. Loss: 2.15802755356. Accuracy: 0.366550925374\n",
      "Epoch time: 0:00:19.274814. Total time: 0:04:10.368909\n",
      "\n",
      "Epoch: 13\n",
      "Epoch 13. Loss: 2.21532385349. Accuracy: 0.372800925374\n",
      "Epoch time: 0:00:19.344346. Total time: 0:04:29.764776\n",
      "\n",
      "Epoch: 14\n",
      "Epoch 14. Loss: 2.34971398115. Accuracy: 0.361458334327\n",
      "Epoch time: 0:00:18.982623. Total time: 0:04:48.785568\n",
      "\n"
     ]
    },
    {
     "ename": "DatabaseError",
     "evalue": "server closed the connection unexpectedly\n\tThis probably means the server terminated abnormally\n\tbefore or while processing the request.\n",
     "output_type": "error",
     "traceback": [
      "\u001b[0;31m---------------------------------------------------------------------------\u001b[0m",
      "\u001b[0;31mDatabaseError\u001b[0m                             Traceback (most recent call last)",
      "\u001b[0;32m<ipython-input-2-5a1fdc9d0c89>\u001b[0m in \u001b[0;36m<module>\u001b[0;34m()\u001b[0m\n\u001b[1;32m     26\u001b[0m         \u001b[0mdocList\u001b[0m \u001b[0;34m=\u001b[0m \u001b[0mdf\u001b[0m\u001b[0;34m.\u001b[0m\u001b[0mdoc_id\u001b[0m\u001b[0;34m.\u001b[0m\u001b[0munique\u001b[0m\u001b[0;34m(\u001b[0m\u001b[0;34m)\u001b[0m\u001b[0;34m.\u001b[0m\u001b[0mtolist\u001b[0m\u001b[0;34m(\u001b[0m\u001b[0;34m)\u001b[0m\u001b[0;34m\u001b[0m\u001b[0m\n\u001b[1;32m     27\u001b[0m \u001b[0;34m\u001b[0m\u001b[0m\n\u001b[0;32m---> 28\u001b[0;31m         \u001b[0;34m(\u001b[0m\u001b[0mtest_binary\u001b[0m\u001b[0;34m,\u001b[0m \u001b[0mtest_binary2\u001b[0m\u001b[0;34m)\u001b[0m \u001b[0;34m=\u001b[0m \u001b[0mmyfunc\u001b[0m\u001b[0;34m(\u001b[0m\u001b[0mauthorList\u001b[0m \u001b[0;34m,\u001b[0m \u001b[0mdoc_id\u001b[0m\u001b[0;34m,\u001b[0m \u001b[0mdocList\u001b[0m\u001b[0;34m,\u001b[0m \u001b[0mlang\u001b[0m\u001b[0;34m)\u001b[0m\u001b[0;34m\u001b[0m\u001b[0m\n\u001b[0m\u001b[1;32m     29\u001b[0m \u001b[0;34m\u001b[0m\u001b[0m\n\u001b[1;32m     30\u001b[0m         \u001b[0mtestResultDoc\u001b[0m\u001b[0;34m.\u001b[0m\u001b[0mappend\u001b[0m\u001b[0;34m(\u001b[0m\u001b[0mtest_binary\u001b[0m\u001b[0;34m)\u001b[0m\u001b[0;34m\u001b[0m\u001b[0m\n",
      "\u001b[0;32m/home/aman/FYP/resultMain.py\u001b[0m in \u001b[0;36mmyfunc\u001b[0;34m(authorlist, doc_id, tdoc, lang)\u001b[0m\n\u001b[1;32m    198\u001b[0m     \u001b[0mtest_binary2\u001b[0m \u001b[0;34m=\u001b[0m \u001b[0;34m[\u001b[0m\u001b[0;34m]\u001b[0m\u001b[0;34m\u001b[0m\u001b[0m\n\u001b[1;32m    199\u001b[0m \u001b[0;34m\u001b[0m\u001b[0m\n\u001b[0;32m--> 200\u001b[0;31m     \u001b[0;34m(\u001b[0m\u001b[0mtestX\u001b[0m\u001b[0;34m,\u001b[0m \u001b[0mtestY\u001b[0m\u001b[0;34m)\u001b[0m \u001b[0;34m=\u001b[0m \u001b[0mdata_helpers\u001b[0m\u001b[0;34m.\u001b[0m\u001b[0mload_doc_data\u001b[0m\u001b[0;34m(\u001b[0m\u001b[0mauthors\u001b[0m \u001b[0;34m=\u001b[0m \u001b[0mauthorlist\u001b[0m\u001b[0;34m,\u001b[0m \u001b[0mdocID\u001b[0m \u001b[0;34m=\u001b[0m \u001b[0mdoc_id\u001b[0m\u001b[0;34m,\u001b[0m \u001b[0mlang\u001b[0m \u001b[0;34m=\u001b[0m \u001b[0mlang\u001b[0m\u001b[0;34m)\u001b[0m\u001b[0;34m\u001b[0m\u001b[0m\n\u001b[0m\u001b[1;32m    201\u001b[0m     \u001b[0mtestX\u001b[0m \u001b[0;34m=\u001b[0m \u001b[0mdata_helpers\u001b[0m\u001b[0;34m.\u001b[0m\u001b[0mencode_data\u001b[0m\u001b[0;34m(\u001b[0m\u001b[0mtestX\u001b[0m\u001b[0;34m,\u001b[0m \u001b[0mmaxlen\u001b[0m\u001b[0;34m,\u001b[0m \u001b[0mvocab\u001b[0m\u001b[0;34m,\u001b[0m \u001b[0mvocab_size\u001b[0m\u001b[0;34m,\u001b[0m \u001b[0mcheck\u001b[0m\u001b[0;34m)\u001b[0m\u001b[0;34m\u001b[0m\u001b[0m\n\u001b[1;32m    202\u001b[0m \u001b[0;34m\u001b[0m\u001b[0m\n",
      "\u001b[0;32m/home/aman/FYP/data_helpers.pyc\u001b[0m in \u001b[0;36mload_doc_data\u001b[0;34m(authors, docID, lang)\u001b[0m\n\u001b[1;32m     66\u001b[0m \u001b[0;32mdef\u001b[0m \u001b[0mload_doc_data\u001b[0m\u001b[0;34m(\u001b[0m\u001b[0mauthors\u001b[0m \u001b[0;34m=\u001b[0m \u001b[0mNone\u001b[0m\u001b[0;34m,\u001b[0m \u001b[0mdocID\u001b[0m \u001b[0;34m=\u001b[0m \u001b[0mNone\u001b[0m\u001b[0;34m,\u001b[0m \u001b[0mlang\u001b[0m \u001b[0;34m=\u001b[0m \u001b[0mNone\u001b[0m\u001b[0;34m)\u001b[0m\u001b[0;34m:\u001b[0m\u001b[0;34m\u001b[0m\u001b[0m\n\u001b[1;32m     67\u001b[0m     \u001b[0;32mimport\u001b[0m \u001b[0mdata\u001b[0m\u001b[0;34m\u001b[0m\u001b[0m\n\u001b[0;32m---> 68\u001b[0;31m     \u001b[0mtest\u001b[0m \u001b[0;34m=\u001b[0m \u001b[0mdata\u001b[0m\u001b[0;34m.\u001b[0m\u001b[0mgetCharDocData\u001b[0m\u001b[0;34m(\u001b[0m\u001b[0mauthors\u001b[0m\u001b[0;34m,\u001b[0m \u001b[0mdocID\u001b[0m\u001b[0;34m,\u001b[0m \u001b[0mlang\u001b[0m\u001b[0;34m)\u001b[0m \u001b[0;31m#Pass it to data and it returns a data frame\u001b[0m\u001b[0;34m\u001b[0m\u001b[0m\n\u001b[0m\u001b[1;32m     69\u001b[0m     \u001b[0mtest\u001b[0m \u001b[0;34m=\u001b[0m \u001b[0mtest\u001b[0m\u001b[0;34m.\u001b[0m\u001b[0mdropna\u001b[0m\u001b[0;34m(\u001b[0m\u001b[0;34m)\u001b[0m\u001b[0;34m\u001b[0m\u001b[0m\n\u001b[1;32m     70\u001b[0m \u001b[0;34m\u001b[0m\u001b[0m\n",
      "\u001b[0;32m/home/aman/FYP/data.pyc\u001b[0m in \u001b[0;36mgetCharDocData\u001b[0;34m(authors, doc, documentTable, chunk_size)\u001b[0m\n\u001b[1;32m    163\u001b[0m     \u001b[0;32mexcept\u001b[0m \u001b[0mpsycopg2\u001b[0m\u001b[0;34m.\u001b[0m\u001b[0mError\u001b[0m \u001b[0;32mas\u001b[0m \u001b[0me\u001b[0m\u001b[0;34m:\u001b[0m\u001b[0;34m\u001b[0m\u001b[0m\n\u001b[1;32m    164\u001b[0m         \u001b[0;32mif\u001b[0m \u001b[0mconn\u001b[0m\u001b[0;34m:\u001b[0m\u001b[0;34m\u001b[0m\u001b[0m\n\u001b[0;32m--> 165\u001b[0;31m             \u001b[0mconn\u001b[0m\u001b[0;34m.\u001b[0m\u001b[0mrollback\u001b[0m\u001b[0;34m(\u001b[0m\u001b[0;34m)\u001b[0m\u001b[0;34m\u001b[0m\u001b[0m\n\u001b[0m\u001b[1;32m    166\u001b[0m         \u001b[0;32mprint\u001b[0m\u001b[0;34m(\u001b[0m\u001b[0;34m'Error %s'\u001b[0m \u001b[0;34m%\u001b[0m \u001b[0me\u001b[0m\u001b[0;34m)\u001b[0m\u001b[0;34m\u001b[0m\u001b[0m\n\u001b[1;32m    167\u001b[0m         \u001b[0msys\u001b[0m\u001b[0;34m.\u001b[0m\u001b[0mexit\u001b[0m\u001b[0;34m(\u001b[0m\u001b[0;36m1\u001b[0m\u001b[0;34m)\u001b[0m\u001b[0;34m\u001b[0m\u001b[0m\n",
      "\u001b[0;31mDatabaseError\u001b[0m: server closed the connection unexpectedly\n\tThis probably means the server terminated abnormally\n\tbefore or while processing the request.\n"
     ]
    }
   ],
   "source": [
    "#csvs = ['finalA18.csv', 'finalA24.csv', 'finalL2.csv', 'finalL4.csv', 'finalL6.csv', 'finalA6.csv', 'finalA12.csv' ]\n",
    "csvs = ['4-12.csv']\n",
    "\n",
    "csvResultDoc = []\n",
    "csvResultFrag = []\n",
    "\n",
    "lang = 'Spanish'\n",
    "\n",
    "for i in csvs:\n",
    "    testResultDoc = []\n",
    "    testResultFrag = []\n",
    "    \n",
    "    import pandas as pd\n",
    "    df = pd.read_csv(i)\n",
    "    print(df.shape)\n",
    "    print(df.dtypes)\n",
    "    \n",
    "    pred = []\n",
    "    for index, row in df.iterrows():\n",
    "        doc_id = row.doc_id\n",
    "\n",
    "        author_id = row.author_id\n",
    "\n",
    "        authorList = df.author_id.unique().tolist() \n",
    "        \n",
    "        docList = df.doc_id.unique().tolist() \n",
    "        \n",
    "        (test_binary, test_binary2) = myfunc(authorList , doc_id, docList, lang)\n",
    "        \n",
    "        testResultDoc.append(test_binary)\n",
    "        \n",
    "        testResultFrag.append(test_binary2)\n",
    "        \n",
    "    ans = np.mean(testResultDoc)\n",
    "    \n",
    "    csvResultDoc.append(ans)\n",
    "    \n",
    "    ans = np.mean(testResultFrag)\n",
    "    \n",
    "    csvResultFrag.append(ans)"
   ]
  },
  {
   "cell_type": "code",
   "execution_count": null,
   "metadata": {
    "scrolled": false
   },
   "outputs": [],
   "source": [
    "csvResultDoc"
   ]
  },
  {
   "cell_type": "code",
   "execution_count": null,
   "metadata": {},
   "outputs": [],
   "source": [
    "csvResultFrag"
   ]
  },
  {
   "cell_type": "code",
   "execution_count": null,
   "metadata": {
    "collapsed": true
   },
   "outputs": [],
   "source": []
  }
 ],
 "metadata": {
  "kernelspec": {
   "display_name": "Python [conda root]",
   "language": "python",
   "name": "conda-root-py"
  },
  "language_info": {
   "codemirror_mode": {
    "name": "ipython",
    "version": 2
   },
   "file_extension": ".py",
   "mimetype": "text/x-python",
   "name": "python",
   "nbconvert_exporter": "python",
   "pygments_lexer": "ipython2",
   "version": "2.7.13"
  }
 },
 "nbformat": 4,
 "nbformat_minor": 2
}
