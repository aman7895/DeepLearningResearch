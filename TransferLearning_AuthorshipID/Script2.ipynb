{
 "cells": [
  {
   "cell_type": "code",
   "execution_count": 1,
   "metadata": {},
   "outputs": [
    {
     "name": "stderr",
     "output_type": "stream",
     "text": [
      "Using Theano backend.\n"
     ]
    }
   ],
   "source": [
    "from __future__ import print_function\n",
    "from __future__ import division\n",
    "import json\n",
    "import py_crepe\n",
    "import datetime\n",
    "import numpy as np\n",
    "import data_helpers\n",
    "import data\n",
    "import string\n",
    "import pandas as pd\n",
    "from resultMain import myfunc\n",
    "np.random.seed(0123)  # for reproducibility"
   ]
  },
  {
   "cell_type": "code",
   "execution_count": 2,
   "metadata": {
    "scrolled": false
   },
   "outputs": [],
   "source": [
    "#csvs = ['finalA18.csv', 'finalA24.csv', 'finalL2.csv', 'finalL4.csv', 'finalL6.csv', 'finalA6.csv', 'finalA12.csv' ]\n",
    "csvs = ['finalL2.csv']\n",
    "testResults = []\n",
    "\n",
    "for i in csvs:\n",
    "    import pandas as pd\n",
    "    df = pd.read_csv(i)\n",
    "    print(df.shape)\n",
    "    print(df.dtypes)\n",
    "    \n",
    "    pred = []\n",
    "    for index, row in df.iterrows():\n",
    "        doc_id = row.doc_id\n",
    "\n",
    "        author_id = row.author_id\n",
    "\n",
    "        authorList = df.author_id.unique().tolist() \n",
    "        \n",
    "        docList = df.doc_id.unique().tolist() \n",
    "        \n",
    "        pred.append(myfunc(authorList , doc_id, docList))\n",
    "        \n",
    "    testResults.append(pred)"
   ]
  },
  {
   "cell_type": "code",
   "execution_count": 3,
   "metadata": {
    "scrolled": false
   },
   "outputs": [
    {
     "data": {
      "text/plain": [
       "[[[0],\n",
       "  [0],\n",
       "  [0],\n",
       "  [0],\n",
       "  [0],\n",
       "  [0],\n",
       "  [0],\n",
       "  [0],\n",
       "  [0],\n",
       "  [0],\n",
       "  [0],\n",
       "  [0],\n",
       "  [0],\n",
       "  [0],\n",
       "  [1],\n",
       "  [0],\n",
       "  [0],\n",
       "  [0],\n",
       "  [0],\n",
       "  [0],\n",
       "  [0],\n",
       "  [0],\n",
       "  [1],\n",
       "  [0]]]"
      ]
     },
     "execution_count": 3,
     "metadata": {},
     "output_type": "execute_result"
    }
   ],
   "source": [
    "testResults"
   ]
  },
  {
   "cell_type": "code",
   "execution_count": 4,
   "metadata": {
    "collapsed": true
   },
   "outputs": [],
   "source": [
    "sum = []\n",
    "ma = []\n",
    "for i in testResults:\n",
    "    for c in i:\n",
    "        sum = sum + c;\n",
    "    ma.append(sum)"
   ]
  },
  {
   "cell_type": "code",
   "execution_count": null,
   "metadata": {
    "collapsed": true
   },
   "outputs": [],
   "source": []
  }
 ],
 "metadata": {
  "kernelspec": {
   "display_name": "Python [conda root]",
   "language": "python",
   "name": "conda-root-py"
  },
  "language_info": {
   "codemirror_mode": {
    "name": "ipython",
    "version": 2
   },
   "file_extension": ".py",
   "mimetype": "text/x-python",
   "name": "python",
   "nbconvert_exporter": "python",
   "pygments_lexer": "ipython2",
   "version": "2.7.13"
  }
 },
 "nbformat": 4,
 "nbformat_minor": 2
}
