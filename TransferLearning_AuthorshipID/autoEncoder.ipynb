{
 "cells": [
  {
   "cell_type": "code",
   "execution_count": null,
   "metadata": {
    "collapsed": true
   },
   "outputs": [],
   "source": [
    "from keras.layers import Input, Dense, Conv2D, MaxPooling2D, UpSampling2D\n",
    "from keras.models import Model\n",
    "from keras import backend as K"
   ]
  },
  {
   "cell_type": "code",
   "execution_count": null,
   "metadata": {
    "collapsed": true
   },
   "outputs": [],
   "source": [
    "input_img = Input(shape=(maxlen, vocab_size))  # adapt this if using `channels_first` image data format\n",
    "\n",
    "x = Conv1D(nb_filter=nb_filter, filter_length=filter_kernels[0],\n",
    "                            border_mode='same', activation='relu',\n",
    "                            name = 'conv1')(input_img)\n",
    "x = MaxPooling1D((2), padding='same')(x)\n",
    "x = Conv1D(8, (3), activation='relu', padding='same')(x)\n",
    "x = MaxPooling1D((2), padding='same')(x)\n",
    "x = Conv1D(8, (3), activation='relu', padding='same')(x)\n",
    "encoded = MaxPooling1D((2), padding='same')(x)\n",
    "\n",
    "# at this point the representation is (4, 4, 8) i.e. 128-dimensional"
   ]
  },
  {
   "cell_type": "code",
   "execution_count": null,
   "metadata": {
    "collapsed": true
   },
   "outputs": [],
   "source": [
    "x = Conv1D(8, (3), activation='relu', padding='same')(encoded)\n",
    "x = UpSampling1D((2))(x)\n",
    "x = Conv1D(8, (3), activation='relu', padding='same')(x)\n",
    "x = UpSampling1D((2))(x)\n",
    "x = Conv1D(16, (3), activation='relu')(x)\n",
    "x = UpSampling1D((2))(x)\n",
    "decoded = Conv1D(1, (3), activation='sigmoid', padding='same')(x)"
   ]
  },
  {
   "cell_type": "code",
   "execution_count": null,
   "metadata": {
    "collapsed": true
   },
   "outputs": [],
   "source": [
    "autoencoder = Model(input_img, decoded)\n",
    "autoencoder.compile(optimizer='adadelta', loss='binary_crossentropy')"
   ]
  }
 ],
 "metadata": {
  "kernelspec": {
   "display_name": "Python [conda root]",
   "language": "python",
   "name": "conda-root-py"
  },
  "language_info": {
   "codemirror_mode": {
    "name": "ipython",
    "version": 2
   },
   "file_extension": ".py",
   "mimetype": "text/x-python",
   "name": "python",
   "nbconvert_exporter": "python",
   "pygments_lexer": "ipython2",
   "version": "2.7.13"
  }
 },
 "nbformat": 4,
 "nbformat_minor": 2
}
