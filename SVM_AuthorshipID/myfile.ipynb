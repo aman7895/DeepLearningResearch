{
 "cells": [
  {
   "cell_type": "code",
   "execution_count": null,
   "metadata": {},
   "outputs": [],
   "source": [
    "\n",
    "import datetime\n",
    "import numpy as np\n",
    "import string\n",
    "import pandas as pd\n",
    "from SVM import myfunc\n",
    "np.random.seed(0123)  # for reproducibility\n",
    "\n",
    "\n",
    "import csv\n",
    "authorlist = []\n",
    "doc_id = []\n",
    "\n",
    "with open('finalA6.csv') as csvfile:\n",
    "    myreader = csv.reader(csvfile, delimiter=',')\n",
    "    for row in myreader:\n",
    "        authorlist.append(int(row[1]))\n",
    "        doc_id.append(int(row[2]))\n",
    "\n",
    "#authorlist1 = []\n",
    "#for i in set(authorlist):\n",
    "#    authorlist1.append(i)\n",
    "#\n",
    "#authorlist = authorlist1\n",
    "\n",
    "test_output = []\n",
    "for cnt in range(len(doc_id)):\n",
    "    temp_id = doc_id[:]\n",
    "    del temp_id[cnt]\n",
    "    temp_authorlist = authorlist[:]\n",
    "    del temp_authorlist[cnt]\n",
    "    out = myfunc(temp_authorlist , temp_id , authorlist[cnt] , doc_id[cnt])\n",
    "    test_output.append(out)\n",
    "print(\"here\")    \n",
    "avg_score = float(sum(test_output))/float(len(test_output))\n",
    "print(\"here\")\n",
    "print(avg_score)"
   ]
  },
  {
   "cell_type": "code",
   "execution_count": null,
   "metadata": {
    "collapsed": true
   },
   "outputs": [],
   "source": []
  }
 ],
 "metadata": {
  "kernelspec": {
   "display_name": "Python [conda root]",
   "language": "python",
   "name": "conda-root-py"
  },
  "language_info": {
   "codemirror_mode": {
    "name": "ipython",
    "version": 2
   },
   "file_extension": ".py",
   "mimetype": "text/x-python",
   "name": "python",
   "nbconvert_exporter": "python",
   "pygments_lexer": "ipython2",
   "version": "2.7.13"
  }
 },
 "nbformat": 4,
 "nbformat_minor": 2
}
