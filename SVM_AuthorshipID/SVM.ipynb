{
 "cells": [
  {
   "cell_type": "code",
   "execution_count": 1,
   "metadata": {
    "collapsed": true
   },
   "outputs": [],
   "source": [
    "import numpy as np\n",
    "import pandas as pd\n",
    "from sklearn.model_selection import train_test_split\n",
    "from sklearn import preprocessing\n",
    "from sklearn.ensemble import RandomForestClassifier\n",
    "from sklearn.pipeline import make_pipeline\n",
    "from sklearn.model_selection import GridSearchCV \n",
    "from sklearn.metrics import mean_squared_error, r2_score, accuracy_score\n",
    "from sklearn.externals import joblib\n",
    "from sklearn.svm import SVC"
   ]
  },
  {
   "cell_type": "code",
   "execution_count": 2,
   "metadata": {
    "collapsed": true
   },
   "outputs": [],
   "source": [
    "data = pd.read_csv(\"amannew.csv\")"
   ]
  },
  {
   "cell_type": "code",
   "execution_count": 3,
   "metadata": {},
   "outputs": [
    {
     "name": "stdout",
     "output_type": "stream",
     "text": [
      "   docID  authorID   paraID       f1        f2        f3       f4   f5  f6  \\\n",
      "0   7042      2786  8767356  49.4659  0.112412 -0.139156  628.772  854   0   \n",
      "1   7042      2786  8767357  50.9139  0.100802 -0.139333  632.473  873   0   \n",
      "2   7042      2786  8767358  48.6102  0.080447 -0.139319  636.327  895   0   \n",
      "3   7042      2786  8767359  42.4379  0.089623 -0.139467  632.219  848   0   \n",
      "4   7042      2786  8767360  47.6189  0.086801 -0.139201  627.527  841   0   \n",
      "\n",
      "    f7  f8  f9  f10  \n",
      "0  156   2   0   15  \n",
      "1  170   3   0   13  \n",
      "2  171   4   0   12  \n",
      "3  185   8   0   19  \n",
      "4  167   7   0   20  \n"
     ]
    }
   ],
   "source": [
    "print data.head()"
   ]
  },
  {
   "cell_type": "code",
   "execution_count": 4,
   "metadata": {},
   "outputs": [
    {
     "name": "stdout",
     "output_type": "stream",
     "text": [
      "(391572, 13)\n"
     ]
    }
   ],
   "source": [
    "print data.shape "
   ]
  },
  {
   "cell_type": "code",
   "execution_count": 5,
   "metadata": {},
   "outputs": [
    {
     "name": "stdout",
     "output_type": "stream",
     "text": [
      "docID         int64\n",
      "authorID      int64\n",
      "paraID        int64\n",
      "f1          float64\n",
      "f2          float64\n",
      "f3          float64\n",
      "f4          float64\n",
      "f5            int64\n",
      "f6            int64\n",
      "f7            int64\n",
      "f8            int64\n",
      "f9            int64\n",
      "f10           int64\n",
      "dtype: object\n"
     ]
    }
   ],
   "source": [
    "print(data.dtypes)"
   ]
  },
  {
   "cell_type": "code",
   "execution_count": 6,
   "metadata": {
    "collapsed": true
   },
   "outputs": [],
   "source": [
    "def getData(data):\n",
    "    labels = []\n",
    "    groups = []\n",
    "    features = []\n",
    "    size = []\n",
    "    authorList = data.authorID.unique()\n",
    "    for auth in authorList:\n",
    "        current = data.loc[data['authorID'] == auth]\n",
    "        size.append(current.shape[0])\n",
    "\n",
    "    print(\"Min: %s\" % (min(size)))\n",
    "    print(\"Max: %s\" % (max(size)))\n",
    "\n",
    "    authorList = authorList.tolist()\n",
    "\n",
    "    for auth in authorList:\n",
    "        current = data.loc[data['authorID'] == auth]\n",
    "\n",
    "        # current = current.sample(n = samples)\n",
    "        feat = current[[\"f1\", \"f2\", \"f3\", \"f4\", \n",
    "                        \"f5\", \"f6\", \"f7\", \"f8\",\n",
    "                        \"f9\", \"f10\"]].values.tolist()\n",
    "        features = features + feat\n",
    "        author = current[\"authorID\"].tolist()\n",
    "        labels = labels + author\n",
    "        doc = current[\"docID\"].tolist()\n",
    "        groups = groups + doc\n",
    "        \n",
    "\n",
    "    return (np.array(features), np.array(labels), np.array(groups))\n"
   ]
  },
  {
   "cell_type": "code",
   "execution_count": 7,
   "metadata": {},
   "outputs": [
    {
     "name": "stdout",
     "output_type": "stream",
     "text": [
      "author_id     int64\n",
      "doc_id        int64\n",
      "lang         object\n",
      "count         int64\n",
      "dtype: object\n",
      "<type 'list'>\n"
     ]
    }
   ],
   "source": [
    "tests = pd.read_csv(\"finalA6.csv\")\n",
    "print(tests.dtypes)\n",
    "authorList = tests.author_id.unique().tolist()\n",
    "\n",
    "print type(authorList)\n"
   ]
  },
  {
   "cell_type": "code",
   "execution_count": 8,
   "metadata": {},
   "outputs": [
    {
     "name": "stdout",
     "output_type": "stream",
     "text": [
      "(17620, 13)\n",
      "[ 114 1492  124 1228 1472]\n"
     ]
    }
   ],
   "source": [
    "df = pd.DataFrame()\n",
    "\n",
    "for index, row in tests.iterrows():\n",
    "    doc_id = row.doc_id\n",
    "\n",
    "    author_id = row.author_id\n",
    "    \n",
    "    train = data.loc[data['authorID'] == author_id]\n",
    "    \n",
    "    df = pd.concat([df, train])\n",
    "    \n",
    "print df.shape\n",
    "\n",
    "data = df.copy()\n",
    "\n",
    "del df\n",
    "\n",
    "print data.authorID.unique()"
   ]
  },
  {
   "cell_type": "code",
   "execution_count": 9,
   "metadata": {},
   "outputs": [
    {
     "name": "stdout",
     "output_type": "stream",
     "text": [
      "Complete\n"
     ]
    }
   ],
   "source": [
    "\n",
    "def predictModel(model, testX):\n",
    "    # Function to take input of data and return prediction model\n",
    "    predY = np.array(model.predict_proba(testX))\n",
    "\n",
    "    predYList = predY[:]\n",
    "    \n",
    "    print len(predYList)\n",
    "    entro = []\n",
    "\n",
    "    flag = False\n",
    "    import math\n",
    "    for row in predY:\n",
    "        entroval = 0\n",
    "        for i in row:\n",
    "            if(i <= 0):\n",
    "                flag = True\n",
    "                pass\n",
    "            else:\n",
    "                entroval += (i * (math.log(i , 2)))\n",
    "        entroval = -1 * entroval\n",
    "        entro.append(entroval)\n",
    "\n",
    "    if(flag == False):\n",
    "        yx = zip(entro, predY)\n",
    "        yx = sorted(yx, key = lambda t: t[0])\n",
    "        newPredY = [x for y, x in yx]\n",
    "        predYEntroList = newPredY[:int(len(newPredY)*0.3)] # Reduce this \n",
    "        predY = np.mean(predYEntroList, axis=0)\n",
    "    else:\n",
    "        predY = np.mean(predYList, axis=0)\n",
    "\n",
    "    return (predYList, predY)\n",
    "\n",
    "results = []\n",
    "test_binary = []\n",
    "for index, row in tests.iterrows():\n",
    "    doc_id = row.doc_id\n",
    "\n",
    "    author_id = row.author_id\n",
    "\n",
    "    train = data.loc[data['docID'] != doc_id]\n",
    "\n",
    "    test = data.loc[data['docID'] == doc_id]\n",
    "\n",
    "    (train_features, train_labels, train_groups) = getData(train)\n",
    "\n",
    "    (test_features, test_labels, test_groups) = getData(test)\n",
    "\n",
    "    del train\n",
    "\n",
    "    ## SVC\n",
    "    clf = SVC(kernel=\"linear\", probability=True, verbose=True)\n",
    "    clf.fit(train_features, train_labels)\n",
    "\n",
    "    (predYList, predY) = predictModel(clf, test_features)\n",
    "    testY = np.array(predY)\n",
    "    testY = testY.mean(axis = 0)\n",
    "    predLocation = predY.tolist().index(max(predY))\n",
    "    if predLocation == testY:\n",
    "        test_binary.append(1)\n",
    "    else:\n",
    "        test_binary.append(0)\n",
    "        \n",
    "    del clf\n",
    "    \n",
    "    from IPython.display import clear_output\n",
    "    clear_output()\n",
    "    \n",
    "print(\"Complete\")\n"
   ]
  },
  {
   "cell_type": "code",
   "execution_count": null,
   "metadata": {
    "collapsed": true
   },
   "outputs": [],
   "source": []
  },
  {
   "cell_type": "code",
   "execution_count": 10,
   "metadata": {},
   "outputs": [
    {
     "data": {
      "text/plain": [
       "[0, 0, 0, 0, 0, 0, 0, 0, 0, 0, 0, 0, 0, 0, 0]"
      ]
     },
     "execution_count": 10,
     "metadata": {},
     "output_type": "execute_result"
    }
   ],
   "source": [
    "test_binary"
   ]
  },
  {
   "cell_type": "code",
   "execution_count": 11,
   "metadata": {
    "scrolled": false
   },
   "outputs": [
    {
     "name": "stdout",
     "output_type": "stream",
     "text": [
      "Min: 944\n",
      "Max: 9000\n",
      "Min: 460\n",
      "Max: 460\n",
      "[LibSVM]Train Accuracy\n",
      "0.827505827506\n",
      "Test Accuracy\n",
      "0.402173913043\n",
      "Min: 944\n",
      "Max: 9000\n",
      "Min: 1430\n",
      "Max: 1430\n",
      "[LibSVM]Train Accuracy\n",
      "0.858801729463\n",
      "Test Accuracy\n",
      "0.146853146853\n",
      "Min: 944\n",
      "Max: 9000\n",
      "Min: 366\n",
      "Max: 366\n",
      "[LibSVM]Train Accuracy\n",
      "0.826822765735\n",
      "Test Accuracy\n",
      "0.0\n",
      "Min: 366\n",
      "Max: 9000\n",
      "Min: 1014\n",
      "Max: 1014\n",
      "[LibSVM]Train Accuracy\n",
      "0.833313260267\n",
      "Test Accuracy\n",
      "0.0\n",
      "Min: 496\n",
      "Max: 9000\n",
      "Min: 448\n",
      "Max: 448\n",
      "[LibSVM]Train Accuracy\n",
      "0.843349638947\n",
      "Test Accuracy\n",
      "0.0\n",
      "Min: 448\n",
      "Max: 9000\n",
      "Min: 496\n",
      "Max: 496\n",
      "[LibSVM]Train Accuracy\n",
      "0.822237794908\n",
      "Test Accuracy\n",
      "0.0\n",
      "Min: 576\n",
      "Max: 9000\n",
      "Min: 570\n",
      "Max: 570\n",
      "[LibSVM]Train Accuracy\n",
      "0.836598240469\n",
      "Test Accuracy\n",
      "0.0\n",
      "Min: 570\n",
      "Max: 9000\n",
      "Min: 576\n",
      "Max: 576\n",
      "[LibSVM]Train Accuracy\n",
      "0.832433701009\n",
      "Test Accuracy\n",
      "0.0\n",
      "Min: 944\n",
      "Max: 9000\n",
      "Min: 460\n",
      "Max: 460\n",
      "[LibSVM]Train Accuracy\n",
      "0.827505827506\n",
      "Test Accuracy\n",
      "0.402173913043\n",
      "Min: 944\n",
      "Max: 8196\n",
      "Min: 804\n",
      "Max: 804\n",
      "[LibSVM]Train Accuracy\n",
      "0.828853472883\n",
      "Test Accuracy\n",
      "0.417910447761\n",
      "Min: 944\n",
      "Max: 9000\n",
      "Min: 1430\n",
      "Max: 1430\n",
      "[LibSVM]Train Accuracy\n",
      "0.858801729463\n",
      "Test Accuracy\n",
      "0.146853146853\n",
      "Min: 944\n",
      "Max: 7296\n",
      "Min: 1704\n",
      "Max: 1704\n",
      "[LibSVM]Train Accuracy\n",
      "0.904498617743\n",
      "Test Accuracy\n",
      "0.0\n",
      "Min: 944\n",
      "Max: 7152\n",
      "Min: 1848\n",
      "Max: 1848\n",
      "[LibSVM]Train Accuracy\n",
      "0.835277707329\n",
      "Test Accuracy\n",
      "0.69696969697\n",
      "Min: 944\n",
      "Max: 9000\n",
      "Min: 3260\n",
      "Max: 3260\n",
      "[LibSVM]Train Accuracy\n",
      "0.912674094708\n",
      "Test Accuracy\n",
      "0.0\n",
      "Min: 944\n",
      "Max: 5150\n",
      "Min: 4644\n",
      "Max: 4644\n",
      "[LibSVM]Train Accuracy\n",
      "0.774969173859\n",
      "Test Accuracy\n",
      "0.878552971576\n"
     ]
    }
   ],
   "source": [
    "results = []\n",
    "for index, row in tests.iterrows():\n",
    "    doc_id = row.doc_id\n",
    "\n",
    "    author_id = row.author_id\n",
    "    \n",
    "    train = data.loc[data['docID'] != doc_id]\n",
    "    \n",
    "    test = data.loc[data['docID'] == doc_id]\n",
    "    \n",
    "    (train_features, train_labels, train_groups) = getData(train)\n",
    "    \n",
    "    (test_features, test_labels, test_groups) = getData(test)\n",
    "    \n",
    "    del train\n",
    "    \n",
    "    ## SVC\n",
    "    clf = SVC(kernel='linear', verbose= True, C= 1)\n",
    "    clf.fit(train_features, train_labels)\n",
    "    \n",
    "    print 'Train Accuracy'\n",
    "    print clf.score(train_features, train_labels)\n",
    "\n",
    "    print 'Test Accuracy'\n",
    "    ta = clf.score(test_features, test_labels)\n",
    "    print ta\n",
    "    results.append(ta)\n",
    "\n",
    "    \n",
    "\n",
    "    "
   ]
  },
  {
   "cell_type": "code",
   "execution_count": 12,
   "metadata": {},
   "outputs": [
    {
     "data": {
      "text/plain": [
       "[0.40217391304347827,\n",
       " 0.14685314685314685,\n",
       " 0.0,\n",
       " 0.0,\n",
       " 0.0,\n",
       " 0.0,\n",
       " 0.0,\n",
       " 0.0,\n",
       " 0.40217391304347827,\n",
       " 0.41791044776119401,\n",
       " 0.14685314685314685,\n",
       " 0.0,\n",
       " 0.69696969696969702,\n",
       " 0.0,\n",
       " 0.87855297157622736]"
      ]
     },
     "execution_count": 12,
     "metadata": {},
     "output_type": "execute_result"
    }
   ],
   "source": [
    "results"
   ]
  },
  {
   "cell_type": "code",
   "execution_count": 13,
   "metadata": {},
   "outputs": [
    {
     "data": {
      "text/plain": [
       "0.20609914907335794"
      ]
     },
     "execution_count": 13,
     "metadata": {},
     "output_type": "execute_result"
    }
   ],
   "source": [
    "np.average(results)"
   ]
  },
  {
   "cell_type": "raw",
   "metadata": {
    "collapsed": true,
    "scrolled": true
   },
   "source": [
    "\n",
    "### NOT RELATED\n",
    "\n",
    "y_pred = clf.predict(X_test)\n",
    "print 'R2_score'\n",
    "print r2_score(y_test, y_pred)\n",
    "print 'Accuracy'\n",
    "print clf.score(X_train, y_train)\n",
    "\n",
    "print 'Test Accuracy'\n",
    "print clf.score(X_test, y_test)"
   ]
  },
  {
   "cell_type": "raw",
   "metadata": {
    "collapsed": true
   },
   "source": [
    "### Not related\n",
    "\n",
    "%matplotlib inline\n",
    "from string import letters\n",
    "import numpy as np\n",
    "import pandas as pd\n",
    "import seaborn as sns\n",
    "import matplotlib.pyplot as plt\n",
    "sns.set(style=\"white\")\n",
    "\n",
    "# Generate a large random dataset\n",
    "rs = np.random.RandomState(33)\n",
    "df = pd.DataFrame(data=X)\n",
    "# Compute the correlation matrix\n",
    "\n",
    "corr = df.corr()\n",
    "# Generate a mask for the upper triangle\n",
    "mask = np.zeros_like(corr, dtype=np.bool)\n",
    "mask[np.triu_indices_from(mask)] = True\n",
    "# Set up the matplotlib figure\n",
    "f, ax = plt.subplots(figsize=(11, 9))\n",
    "# Generate a custom diverging colormap\n",
    "cmap = sns.diverging_palette(220, 10, as_cmap=True)\n",
    "# Draw the heatmap with the mask and correct aspect ratio\n",
    "sns.heatmap(corr, mask=mask, cmap=cmap, vmax=.3,\n",
    " square=True,\n",
    " linewidths=.5, cbar_kws={\"shrink\": .5}, ax=ax)\n"
   ]
  },
  {
   "cell_type": "raw",
   "metadata": {
    "collapsed": true
   },
   "source": [
    "# To figure out the distinct authors\n",
    "\n",
    "output = []\n",
    "for a in y:\n",
    "    if a not in output:\n",
    "        output.append(a)\n",
    "print output"
   ]
  },
  {
   "cell_type": "raw",
   "metadata": {
    "collapsed": true
   },
   "source": [
    "# Visualization using TSNE \n",
    "\n",
    "from sklearn.manifold import TSNE\n",
    "import matplotlib.pyplot as plt\n",
    "from matplotlib import *\n",
    "import itertools    \n",
    "import matplotlib.cm as cm\n",
    "colors = itertools.cycle([\"r\", \"b\", \"g\"])\n",
    "\n",
    "X_embedded = TSNE(n_components=2, perplexity=40, verbose=2).fit_transform(X)\n",
    "\n",
    "fig = plt.figure(figsize=(10, 10))\n",
    "ax = plt.axes(frameon=False)\n",
    "plt.setp(ax, xticks=(), yticks=())\n",
    "plt.subplots_adjust(left=0.0, bottom=0.0, right=1.0, top=0.9,\n",
    "                wspace=0.0, hspace=0.0)\n",
    "plt.scatter(X_embedded[:, 0], X_embedded[:, 1],\n",
    "        c=y, marker=\"x\",cmap=\"jet\")"
   ]
  },
  {
   "cell_type": "raw",
   "metadata": {
    "collapsed": true
   },
   "source": [
    "rp = random_projection.SparseRandomProjection(n_components=2, random_state=42)\n",
    "X_embedded = rp.fit_transform(X)\n",
    "fig = plt.figure(figsize=(10, 10))\n",
    "ax = plt.axes(frameon=False)\n",
    "plt.setp(ax, xticks=(), yticks=())\n",
    "plt.subplots_adjust(left=0.0, bottom=0.0, right=1.0, top=0.9,\n",
    "                wspace=0.0, hspace=0.0)\n",
    "plt.scatter(X_embedded[:, 0], X_embedded[:, 1],\n",
    "        c=y, marker=\"x\",cmap=\"jet\")"
   ]
  },
  {
   "cell_type": "raw",
   "metadata": {
    "collapsed": true
   },
   "source": [
    "X_embedded = decomposition.TruncatedSVD(n_components=2).fit_transform(X)\n",
    "fig = plt.figure(figsize=(10, 10))\n",
    "ax = plt.axes(frameon=False)\n",
    "plt.setp(ax, xticks=(), yticks=())\n",
    "plt.subplots_adjust(left=0.0, bottom=0.0, right=1.0, top=0.9,\n",
    "                wspace=0.0, hspace=0.0)\n",
    "plt.scatter(X_embedded[:, 0], X_embedded[:, 1],\n",
    "        c=y, marker=\"x\",cmap=\"jet\")"
   ]
  },
  {
   "cell_type": "raw",
   "metadata": {
    "collapsed": true
   },
   "source": [
    "X_embedded = manifold.Isomap(n_neighbors, n_components=2).fit_transform(X)\n",
    "fig = plt.figure(figsize=(10, 10))\n",
    "ax = plt.axes(frameon=False)\n",
    "plt.setp(ax, xticks=(), yticks=())\n",
    "plt.subplots_adjust(left=0.0, bottom=0.0, right=1.0, top=0.9,\n",
    "                wspace=0.0, hspace=0.0)\n",
    "plt.scatter(X_embedded[:, 0], X_embedded[:, 1],\n",
    "        c=y, marker=\"x\",cmap=\"jet\")"
   ]
  },
  {
   "cell_type": "raw",
   "metadata": {
    "collapsed": true
   },
   "source": [
    "from sklearn import (manifold, datasets, decomposition, ensemble,\n",
    "                     discriminant_analysis, random_projection)\n",
    "\n",
    "lle= manifold.LocallyLinearEmbedding(n_neighbors, n_components=2,\n",
    "                                      method='standard')\n",
    "X_embedded = lle.fit_transform(X)\n",
    "fig = plt.figure(figsize=(10, 10))\n",
    "ax = plt.axes(frameon=False)\n",
    "plt.setp(ax, xticks=(), yticks=())\n",
    "plt.subplots_adjust(left=0.0, bottom=0.0, right=1.0, top=0.9,\n",
    "                wspace=0.0, hspace=0.0)\n",
    "plt.scatter(X_embedded[:, 0], X_embedded[:, 1],\n",
    "        c=y, marker=\"x\",cmap=\"jet\")"
   ]
  },
  {
   "cell_type": "raw",
   "metadata": {
    "collapsed": true
   },
   "source": [
    "mds = manifold.MDS(n_components=2, n_init=1, max_iter=100)\n",
    "X_embedded = mds.fit_transform(X)\n",
    "fig = plt.figure(figsize=(10, 10))\n",
    "ax = plt.axes(frameon=False)\n",
    "plt.setp(ax, xticks=(), yticks=())\n",
    "plt.subplots_adjust(left=0.0, bottom=0.0, right=1.0, top=0.9,\n",
    "                wspace=0.0, hspace=0.0)\n",
    "plt.scatter(X_embedded[:, 0], X_embedded[:, 1],\n",
    "        c=y, marker=\"x\",cmap=\"jet\")"
   ]
  },
  {
   "cell_type": "raw",
   "metadata": {
    "collapsed": true
   },
   "source": [
    "embedder = manifold.SpectralEmbedding(n_components=2, random_state=0,\n",
    "                                      eigen_solver=\"arpack\")\n",
    "X_embedded = embedder.fit_transform(X)\n",
    "fig = plt.figure(figsize=(10, 10))\n",
    "ax = plt.axes(frameon=False)\n",
    "plt.setp(ax, xticks=(), yticks=())\n",
    "plt.subplots_adjust(left=0.0, bottom=0.0, right=1.0, top=0.9,\n",
    "                wspace=0.0, hspace=0.0)\n",
    "plt.scatter(X_embedded[:, 0], X_embedded[:, 1],\n",
    "        c=y, marker=\"x\",cmap=\"jet\")"
   ]
  },
  {
   "cell_type": "raw",
   "metadata": {
    "collapsed": true
   },
   "source": []
  }
 ],
 "metadata": {
  "kernelspec": {
   "display_name": "Python [conda root]",
   "language": "python",
   "name": "conda-root-py"
  },
  "language_info": {
   "codemirror_mode": {
    "name": "ipython",
    "version": 2
   },
   "file_extension": ".py",
   "mimetype": "text/x-python",
   "name": "python",
   "nbconvert_exporter": "python",
   "pygments_lexer": "ipython2",
   "version": "2.7.13"
  }
 },
 "nbformat": 4,
 "nbformat_minor": 2
}
